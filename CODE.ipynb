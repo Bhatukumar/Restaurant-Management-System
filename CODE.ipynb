{
 "cells": [
  {
   "cell_type": "code",
   "execution_count": 1,
   "metadata": {},
   "outputs": [
    {
     "name": "stdout",
     "output_type": "stream",
     "text": [
      "Recommended Products for Customer 73 : ['Soup', 'Sandwich', 'Coffee']\n"
     ]
    }
   ],
   "source": [
    "import pandas as pd\n",
    "from sklearn.metrics.pairwise import cosine_similarity\n",
    "from sklearn.feature_extraction.text import TfidfVectorizer\n",
    "from sklearn.metrics.pairwise import linear_kernel\n",
    "\n",
    "# Load your existing dataset with columns: 'customer_id', 'product_id', 'product_name', 'rating'\n",
    "# Replace 'restaurant_data.csv' with the path to your dataset\n",
    "data = pd.read_csv('restaurant_data.csv')\n",
    "\n",
    "# Calculate the average rating for each product\n",
    "product_ratings = data.groupby('product_id')['rating'].mean().reset_index()\n",
    "\n",
    "# Create a TF-IDF vectorizer for product names\n",
    "tfidf_vectorizer = TfidfVectorizer(stop_words='english')\n",
    "tfidf_matrix = tfidf_vectorizer.fit_transform(data['product_name'])\n",
    "\n",
    "# Calculate the cosine similarity between product names\n",
    "cosine_sim = linear_kernel(tfidf_matrix, tfidf_matrix)\n",
    "\n",
    "# Create a mapping between product names and product IDs\n",
    "product_name_to_id = {product_name: product_id for product_name, product_id in zip(data['product_name'], data['product_id'])}\n",
    "\n",
    "# Function to get recommendations for a customer based on their order history\n",
    "def get_recommendations(customer_id):\n",
    "    # Get all the products ordered by the customer\n",
    "    customer_orders = data[data['customer_id'] == customer_id]['product_id'].unique()\n",
    "\n",
    "    # Remove products the customer has already ordered\n",
    "    all_products = data['product_id'].unique()\n",
    "    available_products = [product for product in all_products if product not in customer_orders]\n",
    "\n",
    "    # Calculate the average rating for each available product\n",
    "    avg_ratings = product_ratings[product_ratings['product_id'].isin(available_products)]\n",
    "\n",
    "    # Merge the average ratings with product names\n",
    "    avg_ratings = pd.merge(avg_ratings, product_ratings, on='product_id')\n",
    "\n",
    "    # Calculate a weighted score for recommendations\n",
    "    avg_ratings['weighted_score'] = avg_ratings['rating_x'] * avg_ratings['rating_y']\n",
    "\n",
    "    # Sort by the weighted score in descending order\n",
    "    avg_ratings = avg_ratings.sort_values(by='weighted_score', ascending=False)\n",
    "\n",
    "    # Get the top 3 recommended products (or fewer if not enough available products)\n",
    "    top_recommendations = avg_ratings['product_id'].head(3)\n",
    "\n",
    "    # Map product IDs to product names\n",
    "    recommended_products = [data[data['product_id'] == product_id]['product_name'].iloc[0] for product_id in top_recommendations]\n",
    "\n",
    "    return recommended_products\n",
    "\n",
    "# For a customer (assuming 'customer_id'), get recommendations based on their order history\n",
    "customer_id = 73  # Replace with the actual customer ID\n",
    "recommendations = get_recommendations(customer_id)\n",
    "print(\"Recommended Products for Customer\", customer_id, \":\", recommendations)\n"
   ]
  },
  {
   "cell_type": "markdown",
   "metadata": {},
   "source": [
    "MAIN CODE"
   ]
  },
  {
   "cell_type": "code",
   "execution_count": 26,
   "metadata": {},
   "outputs": [
    {
     "name": "stdout",
     "output_type": "stream",
     "text": [
      "Recommended Products for Customer 78 : ['Soup', 'Sandwich', 'Coffee']\n"
     ]
    }
   ],
   "source": [
    "import pandas as pd\n",
    "from sklearn.feature_extraction.text import TfidfVectorizer\n",
    "from sklearn.metrics.pairwise import linear_kernel\n",
    "\n",
    "# Load your existing dataset with columns: 'customer_id', 'product_id', 'product_name', 'rating'\n",
    "# Replace 'restaurant_data.csv' with the path to your dataset\n",
    "data = pd.read_csv('restaurant_data.csv')\n",
    "\n",
    "# Create a TF-IDF vectorizer for product names\n",
    "tfidf_vectorizer = TfidfVectorizer(stop_words='english')\n",
    "tfidf_matrix = tfidf_vectorizer.fit_transform(data['product_name'])\n",
    "\n",
    "# Calculate the cosine similarity between product names\n",
    "cosine_sim = linear_kernel(tfidf_matrix, tfidf_matrix)\n",
    "\n",
    "# Function to get recommendations for a customer based on their order history and 5-star rated products\n",
    "def get_recommendations(customer_id):\n",
    "    # Get all the products ordered by the customer\n",
    "    customer_orders = data[data['customer_id'] == customer_id]['product_id'].unique()\n",
    "\n",
    "    # Remove products the customer has already ordered\n",
    "    all_products = data['product_id'].unique()\n",
    "    available_products = [product for product in all_products if product not in customer_orders]\n",
    "\n",
    "    # Create a list of 5-star rated products by the customer\n",
    "    five_star_products = data[(data['customer_id'] == customer_id) & (data['rating'] == 5)]['product_id'].unique()\n",
    "\n",
    "    # Add the 5-star rated products to the available products list\n",
    "    available_products.extend(five_star_products)\n",
    "\n",
    "    # Calculate a weighted score for recommendations\n",
    "    avg_ratings = data[data['product_id'].isin(available_products)].groupby('product_id')['rating'].mean().reset_index()\n",
    "    avg_ratings = avg_ratings.rename(columns={'rating': 'avg_rating'})\n",
    "\n",
    "    # Sort by the weighted score in descending order\n",
    "    avg_ratings = avg_ratings.sort_values(by='avg_rating', ascending=False)\n",
    "\n",
    "    # Get the top 3 recommended products (or fewer if not enough available products)\n",
    "    top_recommendations = avg_ratings['product_id'].head(3)\n",
    "\n",
    "    # Map product IDs to product names\n",
    "    recommended_products = [data[data['product_id'] == product_id]['product_name'].iloc[0] for product_id in top_recommendations]\n",
    "\n",
    "    return recommended_products\n",
    "\n",
    "# For a customer (assuming 'customer_id'), get recommendations based on their order history and 5-star rated products\n",
    "customer_id = 78  # Replace with the actual customer ID\n",
    "recommendations = get_recommendations(customer_id)\n",
    "print(\"Recommended Products for Customer\", customer_id, \":\", recommendations)\n"
   ]
  },
  {
   "cell_type": "code",
   "execution_count": 27,
   "metadata": {},
   "outputs": [
    {
     "name": "stdout",
     "output_type": "stream",
     "text": [
      "Top 10 Highest-Rated Products:\n",
      "product_name\n",
      "Soup             3.857143\n",
      "Sandwich         3.500000\n",
      "Coffee           3.250000\n",
      "Burger           3.000000\n",
      "Chicken Wings    3.000000\n",
      "Salad            3.000000\n",
      "Sushi            2.666667\n",
      "Fries            2.500000\n",
      "Steak            2.500000\n",
      "Ice Cream        2.333333\n",
      "Name: rating, dtype: float64\n",
      "\n",
      "Top 10 Most Frequently Purchased Products:\n",
      "product_name\n",
      "Chicken Wings    8\n",
      "Soup             7\n",
      "Burger           5\n",
      "Tacos            4\n",
      "Soda             4\n",
      "Coffee           4\n",
      "Ice Cream        3\n",
      "Sushi            3\n",
      "Pasta            3\n",
      "Fries            2\n",
      "Name: count, dtype: int64\n"
     ]
    }
   ],
   "source": [
    "import pandas as pd\n",
    "\n",
    "# Load your existing dataset with columns: 'product_id', 'product_name', 'rating'\n",
    "# Replace 'restaurant_data.csv' with the path to your dataset\n",
    "data = pd.read_csv('restaurant_data.csv')\n",
    "\n",
    "# Top 10 highest-rated products\n",
    "top_rated_products = data.groupby('product_name')['rating'].mean().sort_values(ascending=False).head(10)\n",
    "\n",
    "# Top 10 most frequently purchased products\n",
    "top_frequent_products = data['product_name'].value_counts().head(10)\n",
    "\n",
    "print(\"Top 10 Highest-Rated Products:\")\n",
    "print(top_rated_products)\n",
    "\n",
    "print(\"\\nTop 10 Most Frequently Purchased Products:\")\n",
    "print(top_frequent_products)\n"
   ]
  },
  {
   "cell_type": "code",
   "execution_count": 28,
   "metadata": {},
   "outputs": [
    {
     "name": "stdout",
     "output_type": "stream",
     "text": [
      "Repetitive Customers with Their Orders, Ratings, and Order Frequency:\n",
      "    customer_id  product_id product_name  rating  customer_frequency\n",
      "4            20           5        Sushi       2                   3\n",
      "7            75           4        Salad       3                   2\n",
      "12           30          15         Soup       3                   2\n",
      "15            1           2       Burger       4                   2\n",
      "22           30           2       Burger       1                   2\n",
      "27           56           5        Sushi       4                   3\n",
      "32           20           6        Steak       2                   3\n",
      "33           56           2       Burger       4                   3\n",
      "37           56          15         Soup       2                   3\n",
      "41           75          10         Soda       3                   2\n",
      "48            1          15         Soup       4                   2\n",
      "49           20          15         Soup       5                   3\n"
     ]
    },
    {
     "name": "stderr",
     "output_type": "stream",
     "text": [
      "C:\\Users\\Admin\\AppData\\Local\\Temp\\ipykernel_18816\\396312387.py:13: SettingWithCopyWarning: \n",
      "A value is trying to be set on a copy of a slice from a DataFrame.\n",
      "Try using .loc[row_indexer,col_indexer] = value instead\n",
      "\n",
      "See the caveats in the documentation: https://pandas.pydata.org/pandas-docs/stable/user_guide/indexing.html#returning-a-view-versus-a-copy\n",
      "  repetitive_orders['customer_frequency'] = repetitive_orders['customer_id'].map(customer_frequency)\n"
     ]
    }
   ],
   "source": [
    "import pandas as pd\n",
    "\n",
    "# Load your existing dataset with columns: 'customer_id', 'product_id', 'rating'\n",
    "# Replace 'restaurant_data.csv' with the path to your dataset\n",
    "data = pd.read_csv('restaurant_data.csv')\n",
    "\n",
    "# Find repetitive customers (ordered more than once) and their order frequency\n",
    "customer_frequency = data['customer_id'].value_counts()\n",
    "repetitive_customers = customer_frequency[customer_frequency > 1].index\n",
    "\n",
    "# Create a DataFrame to store orders, ratings, and customer order frequency\n",
    "repetitive_orders = data[data['customer_id'].isin(repetitive_customers)]\n",
    "repetitive_orders['customer_frequency'] = repetitive_orders['customer_id'].map(customer_frequency)\n",
    "\n",
    "# Display orders, ratings, and customer order frequency\n",
    "print(\"Repetitive Customers with Their Orders, Ratings, and Order Frequency:\")\n",
    "print(repetitive_orders)\n"
   ]
  },
  {
   "cell_type": "code",
   "execution_count": 29,
   "metadata": {},
   "outputs": [
    {
     "name": "stdout",
     "output_type": "stream",
     "text": [
      "Repetitive Customers with Their Orders, Ratings, Order Frequency, and Ordered Products:\n",
      "    customer_id  rating  customer_frequency ordered_products\n",
      "4            20       2                   3         5, 6, 15\n",
      "7            75       3                   2            4, 10\n",
      "12           30       3                   2            15, 2\n",
      "15            1       4                   2            2, 15\n",
      "22           30       1                   2            15, 2\n",
      "27           56       4                   3         5, 2, 15\n",
      "32           20       2                   3         5, 6, 15\n",
      "33           56       4                   3         5, 2, 15\n",
      "37           56       2                   3         5, 2, 15\n",
      "41           75       3                   2            4, 10\n",
      "48            1       4                   2            2, 15\n",
      "49           20       5                   3         5, 6, 15\n"
     ]
    },
    {
     "name": "stderr",
     "output_type": "stream",
     "text": [
      "C:\\Users\\Admin\\AppData\\Local\\Temp\\ipykernel_18816\\1725336871.py:13: SettingWithCopyWarning: \n",
      "A value is trying to be set on a copy of a slice from a DataFrame.\n",
      "Try using .loc[row_indexer,col_indexer] = value instead\n",
      "\n",
      "See the caveats in the documentation: https://pandas.pydata.org/pandas-docs/stable/user_guide/indexing.html#returning-a-view-versus-a-copy\n",
      "  repetitive_orders['customer_frequency'] = repetitive_orders['customer_id'].map(customer_frequency)\n",
      "C:\\Users\\Admin\\AppData\\Local\\Temp\\ipykernel_18816\\1725336871.py:23: SettingWithCopyWarning: \n",
      "A value is trying to be set on a copy of a slice from a DataFrame.\n",
      "Try using .loc[row_indexer,col_indexer] = value instead\n",
      "\n",
      "See the caveats in the documentation: https://pandas.pydata.org/pandas-docs/stable/user_guide/indexing.html#returning-a-view-versus-a-copy\n",
      "  repetitive_orders['ordered_products'] = repetitive_orders['customer_id'].apply(get_ordered_products)\n"
     ]
    }
   ],
   "source": [
    "import pandas as pd\n",
    "\n",
    "# Load your existing dataset with columns: 'customer_id', 'product_id', 'rating'\n",
    "# Replace 'restaurant_data.csv' with the path to your dataset\n",
    "data = pd.read_csv('restaurant_data.csv')\n",
    "\n",
    "# Find repetitive customers (ordered more than once) and their order frequency\n",
    "customer_frequency = data['customer_id'].value_counts()\n",
    "repetitive_customers = customer_frequency[customer_frequency > 1].index\n",
    "\n",
    "# Create a DataFrame to store orders, ratings, customer order frequency, and products they ordered\n",
    "repetitive_orders = data[data['customer_id'].isin(repetitive_customers)]\n",
    "repetitive_orders['customer_frequency'] = repetitive_orders['customer_id'].map(customer_frequency)\n",
    "\n",
    "# Function to get all the products ordered by each customer\n",
    "def get_ordered_products(customer_id):\n",
    "    customer_data = repetitive_orders[repetitive_orders['customer_id'] == customer_id]\n",
    "    ordered_products = customer_data['product_id'].unique()\n",
    "    # Convert ordered_products to strings before joining\n",
    "    ordered_products = [str(product) for product in ordered_products]\n",
    "    return ', '.join(ordered_products)\n",
    "\n",
    "repetitive_orders['ordered_products'] = repetitive_orders['customer_id'].apply(get_ordered_products)\n",
    "\n",
    "# Display orders, ratings, customer order frequency, and products they ordered\n",
    "print(\"Repetitive Customers with Their Orders, Ratings, Order Frequency, and Ordered Products:\")\n",
    "print(repetitive_orders[['customer_id', 'rating', 'customer_frequency', 'ordered_products']])\n"
   ]
  }
 ],
 "metadata": {
  "kernelspec": {
   "display_name": "Python 3",
   "language": "python",
   "name": "python3"
  },
  "language_info": {
   "codemirror_mode": {
    "name": "ipython",
    "version": 3
   },
   "file_extension": ".py",
   "mimetype": "text/x-python",
   "name": "python",
   "nbconvert_exporter": "python",
   "pygments_lexer": "ipython3",
   "version": "3.11.0"
  }
 },
 "nbformat": 4,
 "nbformat_minor": 2
}
