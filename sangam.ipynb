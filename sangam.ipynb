{
 "cells": [
  {
   "cell_type": "code",
   "execution_count": 1,
   "metadata": {},
   "outputs": [
    {
     "name": "stdout",
     "output_type": "stream",
     "text": [
      "Sample data has been generated and saved to restaurant_data.csv.\n"
     ]
    }
   ],
   "source": [
    "import pandas as pd\n",
    "import random\n",
    "\n",
    "# Sample data for products and product names\n",
    "products = {\n",
    "    'product_id': range(1, 16),\n",
    "    'product_name': ['Pizza', 'Burger', 'Pasta', 'Salad', 'Sushi', 'Steak', 'Tacos', 'Ice Cream', 'Fries', 'Soda', 'Chicken Wings', 'Fish', 'Sandwich', 'Coffee', 'Soup']\n",
    "}\n",
    "\n",
    "# Create a DataFrame with products\n",
    "products_df = pd.DataFrame(products)\n",
    "\n",
    "# Generate random customer reviews\n",
    "customer_reviews = []\n",
    "for _ in range(50):\n",
    "    customer_id = random.randint(1, 100)  # Random customer ID\n",
    "    product_id = random.randint(1, 15)    # Random product ID\n",
    "    rating = random.randint(1, 5)         # Random rating (1 to 5 stars)\n",
    "\n",
    "    # Retrieve the product name based on the product ID\n",
    "    product_name = products_df.loc[products_df['product_id'] == product_id, 'product_name'].values[0]\n",
    "\n",
    "    customer_reviews.append([customer_id, product_id, product_name, rating])\n",
    "\n",
    "# Create a DataFrame for customer reviews\n",
    "reviews_df = pd.DataFrame(customer_reviews, columns=['customer_id', 'product_id', 'product_name', 'rating'])\n",
    "\n",
    "# Save the data to a CSV file\n",
    "reviews_df.to_csv('restaurant_data.csv', index=False)\n",
    "\n",
    "print(\"Sample data has been generated and saved to restaurant_data.csv.\")\n"
   ]
  }
 ],
 "metadata": {
  "kernelspec": {
   "display_name": "Python 3",
   "language": "python",
   "name": "python3"
  },
  "language_info": {
   "codemirror_mode": {
    "name": "ipython",
    "version": 3
   },
   "file_extension": ".py",
   "mimetype": "text/x-python",
   "name": "python",
   "nbconvert_exporter": "python",
   "pygments_lexer": "ipython3",
   "version": "3.11.4"
  }
 },
 "nbformat": 4,
 "nbformat_minor": 2
}
